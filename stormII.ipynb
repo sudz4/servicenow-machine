{
 "cells": [
  {
   "cell_type": "code",
   "execution_count": 1,
   "metadata": {},
   "outputs": [],
   "source": [
    "import pandas as pd\n",
    "import numpy as np\n",
    "\n"
   ]
  },
  {
   "cell_type": "code",
   "execution_count": null,
   "metadata": {},
   "outputs": [],
   "source": [
    "import requests\n",
    "import json\n",
    "import os\n",
    "\n"
   ]
  },
  {
   "cell_type": "code",
   "execution_count": null,
   "metadata": {},
   "outputs": [],
   "source": [
    "from dotenv import load_dotenv"
   ]
  },
  {
   "cell_type": "markdown",
   "metadata": {},
   "source": [
    "| DEMO Data Generator |\n",
    "|-|\n",
    "| system data |\n",
    "\n",
    "i.e.,\n",
    "events, kb / kb article"
   ]
  },
  {
   "cell_type": "code",
   "execution_count": null,
   "metadata": {},
   "outputs": [],
   "source": [
    "#### servicenow rest api url construction\n",
    "sn_table = 'em_event'\n",
    "instance = os.getenv('pdi_instance')\n",
    "user = os.getenv('pdi_un')\n",
    "pwd = os.getenv('pdi_pw')\n",
    "instance_api_url = f'https://{instance}.service-now.com/api/now/table/{sn_table}' \n",
    "\n",
    "# headers for the rest api\n",
    "headers = {\"Content-Type\":\"application/json\",\"Accept\":\"application/json\"}\n",
    "\n",
    "# do the rest api call\n",
    "response = requests.post(instance_api_url, auth=(user, pwd), headers=headers ,data=\"{\\\"classification\\\":\\\"Security\\\",\\\"source\\\":\\\"UATU\\\",\\\"severity\\\":\\\"Minor\\\",\\\"node\\\":\\\"OWA-SD-01\\\",\\\"description\\\":\\\"This is a test security event\\\",\\\"additional_info\\\":\\\"by sudz from rest api explorer\\\"}\")\n",
    "\n",
    "# Check for HTTP codes other than 200\n",
    "if response.status_code != 200: \n",
    "    print('Status:', response.status_code, 'Headers:', response.headers, 'Error Response:',response.json())\n",
    "    exit()\n",
    "\n",
    "# Decode the JSON response into a dictionary and use the data\n",
    "data = response.json()\n",
    "print(data)"
   ]
  },
  {
   "cell_type": "code",
   "execution_count": null,
   "metadata": {},
   "outputs": [],
   "source": []
  },
  {
   "cell_type": "code",
   "execution_count": null,
   "metadata": {},
   "outputs": [],
   "source": []
  },
  {
   "cell_type": "markdown",
   "metadata": {},
   "source": [
    "| DEMO Data Generator |\n",
    "|-|\n",
    "| user data |\n",
    "\n",
    "i.e., sys_user, sys_user_group, automation with roles? \n"
   ]
  },
  {
   "cell_type": "code",
   "execution_count": null,
   "metadata": {},
   "outputs": [],
   "source": []
  },
  {
   "cell_type": "code",
   "execution_count": null,
   "metadata": {},
   "outputs": [],
   "source": []
  },
  {
   "cell_type": "markdown",
   "metadata": {},
   "source": [
    "| Data extraction and governance |\n",
    "|-|\n",
    "| GETs |"
   ]
  },
  {
   "cell_type": "code",
   "execution_count": null,
   "metadata": {},
   "outputs": [],
   "source": []
  },
  {
   "cell_type": "code",
   "execution_count": null,
   "metadata": {},
   "outputs": [],
   "source": []
  }
 ],
 "metadata": {
  "kernelspec": {
   "display_name": "machine_venv",
   "language": "python",
   "name": "python3"
  },
  "language_info": {
   "codemirror_mode": {
    "name": "ipython",
    "version": 3
   },
   "file_extension": ".py",
   "mimetype": "text/x-python",
   "name": "python",
   "nbconvert_exporter": "python",
   "pygments_lexer": "ipython3",
   "version": "3.11.1"
  }
 },
 "nbformat": 4,
 "nbformat_minor": 2
}
